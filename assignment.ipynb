{
 "cells": [
  {
   "cell_type": "code",
   "execution_count": null,
   "id": "d8cd55c1-5835-4b1a-b5aa-22a252bb7e45",
   "metadata": {},
   "outputs": [],
   "source": [
    "# Q1. Create one variable containing following type of data:\n",
    "# (i) string\n",
    "# (ii) list\n",
    "# (iii) float\n",
    "# (iv) tuple"
   ]
  },
  {
   "cell_type": "code",
   "execution_count": null,
   "id": "7db0c21c-b747-4a17-9214-7026b8b8b479",
   "metadata": {},
   "outputs": [],
   "source": [
    " v = \"arman siddiqui\""
   ]
  },
  {
   "cell_type": "code",
   "execution_count": null,
   "id": "9a436faa-01f8-44b3-9f39-17b1a2565935",
   "metadata": {},
   "outputs": [],
   "source": [
    "v = [1,2,3,4,5,\"araamana\""
   ]
  },
  {
   "cell_type": "code",
   "execution_count": null,
   "id": "67186126-8530-471d-8b98-f29ddca0e0dc",
   "metadata": {},
   "outputs": [],
   "source": [
    "v = 12.22"
   ]
  },
  {
   "cell_type": "code",
   "execution_count": 2,
   "id": "42708cf2-f17d-4d9e-82bf-a1731a9fda94",
   "metadata": {},
   "outputs": [
    {
     "data": {
      "text/plain": [
       "tuple"
      ]
     },
     "execution_count": 2,
     "metadata": {},
     "output_type": "execute_result"
    }
   ],
   "source": [
    "v = (1,2,3,4)\n",
    "     "
   ]
  },
  {
   "cell_type": "code",
   "execution_count": null,
   "id": "d6dcae2b-9d22-426c-94ac-3fe3ac6d42c2",
   "metadata": {},
   "outputs": [],
   "source": [
    "# Q2. Given are some following variables containing data:\n",
    "# (i) var1 = ‘ ‘\n",
    "# (ii) var2 = ‘[ DS , ML , Python]’\n",
    "# (iii) var3 = [ ‘DS’ , ’ML’ , ‘Python’ ]\n",
    "# (iv) var4 = 1."
   ]
  },
  {
   "cell_type": "code",
   "execution_count": 3,
   "id": "1ab53213-c5f9-4598-ba8c-f56f3673634c",
   "metadata": {},
   "outputs": [
    {
     "data": {
      "text/plain": [
       "str"
      ]
     },
     "execution_count": 3,
     "metadata": {},
     "output_type": "execute_result"
    }
   ],
   "source": [
    "var1 = ''\n",
    "type(var1)"
   ]
  },
  {
   "cell_type": "code",
   "execution_count": 7,
   "id": "26c0d082-dca1-42a2-96e5-dcbf2062ac95",
   "metadata": {},
   "outputs": [
    {
     "data": {
      "text/plain": [
       "str"
      ]
     },
     "execution_count": 7,
     "metadata": {},
     "output_type": "execute_result"
    }
   ],
   "source": [
    "var2 = '[ DS , ML , Python]'\n",
    "type(var2)"
   ]
  },
  {
   "cell_type": "code",
   "execution_count": 26,
   "id": "ba9aef94-5011-47f4-9c36-84bf97c42d85",
   "metadata": {},
   "outputs": [
    {
     "data": {
      "text/plain": [
       "list"
      ]
     },
     "execution_count": 26,
     "metadata": {},
     "output_type": "execute_result"
    }
   ],
   "source": [
    "var3 = [\"DS\", \"ML\",\"Python\"]\n",
    "type(var3)"
   ]
  },
  {
   "cell_type": "code",
   "execution_count": 27,
   "id": "c22355d5-8637-483c-97a8-efd9028c39a5",
   "metadata": {},
   "outputs": [
    {
     "data": {
      "text/plain": [
       "int"
      ]
     },
     "execution_count": 27,
     "metadata": {},
     "output_type": "execute_result"
    }
   ],
   "source": [
    "var4 = 1\n",
    "type(var4)"
   ]
  },
  {
   "cell_type": "code",
   "execution_count": null,
   "id": "d4c9d4ce-5602-49f8-a7e7-5359ebd6f8c0",
   "metadata": {},
   "outputs": [],
   "source": [
    "# Q3. Explain the use of the following operators using an example:\n",
    "# (i) /\n",
    "# (ii) %\n",
    "# (iii) //\n",
    "# (iv) **"
   ]
  },
  {
   "cell_type": "code",
   "execution_count": null,
   "id": "92b6f86d-e289-4001-98f8-0fa7d631c8d2",
   "metadata": {},
   "outputs": [],
   "source": [
    "1  it is arithmetic operator which is used to perform mathematical operation"
   ]
  },
  {
   "cell_type": "code",
   "execution_count": null,
   "id": "33ea3f35-7ab5-45c3-a9a9-5068c847a4cc",
   "metadata": {},
   "outputs": [],
   "source": [
    "2  it is a modulus operatort which tell us about the remainder"
   ]
  },
  {
   "cell_type": "code",
   "execution_count": null,
   "id": "c1afa8f2-1acf-482f-80e4-b898f0490725",
   "metadata": {},
   "outputs": [],
   "source": [
    "3 it is a floor operator which rounds the result down to the nearest whole number"
   ]
  },
  {
   "cell_type": "code",
   "execution_count": null,
   "id": "d7b5dd8f-385f-4868-a747-77cf6b017d69",
   "metadata": {},
   "outputs": [],
   "source": [
    "4 it is an exponential operator  in Python is used to raise the number on the left to the power of the exponent of the right"
   ]
  },
  {
   "cell_type": "code",
   "execution_count": null,
   "id": "d633f9e3-4610-462b-bbac-9cfc501d38bd",
   "metadata": {},
   "outputs": [],
   "source": [
    "# Q4. Create a list of length 10 of your choice containing multiple types of data. Using for loop print the\n",
    "# element and its data type."
   ]
  },
  {
   "cell_type": "code",
   "execution_count": 31,
   "id": "89d2d3fe-f19c-4a0b-a39b-91b5b0ba0dc5",
   "metadata": {},
   "outputs": [
    {
     "name": "stdout",
     "output_type": "stream",
     "text": [
      "<class 'int'>\n",
      "1\n",
      "<class 'int'>\n",
      "2\n",
      "<class 'int'>\n",
      "3\n",
      "<class 'int'>\n",
      "4\n",
      "<class 'int'>\n",
      "5\n",
      "<class 'int'>\n",
      "5\n",
      "<class 'int'>\n",
      "6\n",
      "<class 'str'>\n",
      "arman\n",
      "<class 'float'>\n",
      "12.22\n",
      "<class 'bool'>\n",
      "True\n"
     ]
    }
   ],
   "source": [
    "x = [1,2,3,4,5,5,6,\"arman\", 12.22, True]\n",
    "for i in x:\n",
    "    print(type(i))\n",
    "    print(i)"
   ]
  },
  {
   "cell_type": "code",
   "execution_count": null,
   "id": "5fa95479-6ae6-495a-9668-66c0d38ee286",
   "metadata": {},
   "outputs": [],
   "source": [
    "# Q5. Using a while loop, verify if the number A is purely divisible by number B and if so then how many\n",
    "# times it can be divisible."
   ]
  },
  {
   "cell_type": "code",
   "execution_count": 3,
   "id": "f365d59e-26fb-4c66-b532-628702060ec0",
   "metadata": {},
   "outputs": [
    {
     "name": "stdout",
     "output_type": "stream",
     "text": [
      "it is divisivle\n",
      "5.0\n"
     ]
    }
   ],
   "source": [
    "a = 10\n",
    "b = 2\n",
    "while a%b==0:\n",
    "    print(\"it is divisivle\")\n",
    "    print(a/b)\n",
    "    break;"
   ]
  },
  {
   "cell_type": "code",
   "execution_count": null,
   "id": "44260dda-5b3b-48c7-85b3-ad17d6c99ff7",
   "metadata": {},
   "outputs": [],
   "source": [
    "# Q6. Create a list containing 25 int type data. Using for loop and if-else condition print if the element is\n",
    "# divisible by 3 or not."
   ]
  },
  {
   "cell_type": "code",
   "execution_count": 2,
   "id": "14f11197-9a27-4741-8857-67d0680ab35b",
   "metadata": {},
   "outputs": [
    {
     "name": "stdout",
     "output_type": "stream",
     "text": [
      "3\n",
      "it is divisible by 3\n",
      "23\n",
      "it is not divisible by 3\n",
      "344\n",
      "it is not divisible by 3\n",
      "5\n",
      "it is not divisible by 3\n",
      "6\n",
      "it is divisible by 3\n",
      "7\n",
      "it is not divisible by 3\n",
      "123\n",
      "it is divisible by 3\n",
      "43\n",
      "it is not divisible by 3\n",
      "4343\n",
      "it is not divisible by 3\n",
      "45\n",
      "it is divisible by 3\n",
      "55\n",
      "it is not divisible by 3\n",
      "5\n",
      "it is not divisible by 3\n",
      "5\n",
      "it is not divisible by 3\n",
      "55\n",
      "it is not divisible by 3\n",
      "55\n",
      "it is not divisible by 3\n",
      "55\n",
      "it is not divisible by 3\n",
      "55555\n",
      "it is not divisible by 3\n",
      "333\n",
      "it is divisible by 3\n",
      "32\n",
      "it is not divisible by 3\n",
      "3\n",
      "it is divisible by 3\n",
      "4\n",
      "it is not divisible by 3\n",
      "42\n",
      "it is divisible by 3\n",
      "444\n",
      "it is divisible by 3\n"
     ]
    }
   ],
   "source": [
    "a = [3,23,344,5,6,7,123,43,4343,45,55,5,5,55,55,55,55555,333,32,3,4,42,444,]\n",
    "for i in a :\n",
    "  print(i)\n",
    "  if i%3==0:\n",
    "    print(\"it is divisible by 3\")\n",
    "  else:\n",
    "    print(\"it is not divisible by 3\")"
   ]
  },
  {
   "cell_type": "code",
   "execution_count": null,
   "id": "ea2d7dfc-3878-4cd4-9520-1e0ffccf890b",
   "metadata": {},
   "outputs": [],
   "source": [
    "# Q7. What do you understand about mutable and immutable data types? Give examples for both showing\n",
    "# # this property.\n",
    "\n",
    "\n",
    "mutable are those whose values can be change after creation for example in list we can change the value after the creation\n",
    "\n",
    "\n",
    "immuatble are those whose values can not be changed after creation for example in tuple we can not change the value after creation"
   ]
  },
  {
   "cell_type": "code",
   "execution_count": 8,
   "id": "b30c1bbb-de35-420b-a802-40e3992619c4",
   "metadata": {},
   "outputs": [
    {
     "data": {
      "text/plain": [
       "[1.2, 3, 4, 45, 666, 'wede', True]"
      ]
     },
     "execution_count": 8,
     "metadata": {},
     "output_type": "execute_result"
    }
   ],
   "source": [
    "s =[1.2,3,4,45,666,\"arman\",True]\n",
    "s[5] = \"wede\"\n",
    "s.append(44)\n",
    "s\n"
   ]
  },
  {
   "cell_type": "code",
   "execution_count": 15,
   "id": "d99cc11d-4e79-4acf-9536-555b4f25cc35",
   "metadata": {},
   "outputs": [
    {
     "ename": "AttributeError",
     "evalue": "'tuple' object has no attribute 'append'",
     "output_type": "error",
     "traceback": [
      "\u001b[0;31m---------------------------------------------------------------------------\u001b[0m",
      "\u001b[0;31mAttributeError\u001b[0m                            Traceback (most recent call last)",
      "Cell \u001b[0;32mIn[15], line 2\u001b[0m\n\u001b[1;32m      1\u001b[0m s \u001b[38;5;241m=\u001b[39m (\u001b[38;5;241m1\u001b[39m,\u001b[38;5;241m2\u001b[39m,\u001b[38;5;241m3\u001b[39m,\u001b[38;5;241m4\u001b[39m,\u001b[38;5;241m5\u001b[39m)\n\u001b[0;32m----> 2\u001b[0m \u001b[43ms\u001b[49m\u001b[38;5;241;43m.\u001b[39;49m\u001b[43mappend\u001b[49m(\u001b[38;5;124m\"\u001b[39m\u001b[38;5;124marman\u001b[39m\u001b[38;5;124m\"\u001b[39m)\n\u001b[1;32m      3\u001b[0m s\n",
      "\u001b[0;31mAttributeError\u001b[0m: 'tuple' object has no attribute 'append'"
     ]
    }
   ],
   "source": [
    "s = (1,2,3,4,5)\n",
    "s.append(\"arman\")\n",
    "s"
   ]
  }
 ],
 "metadata": {
  "kernelspec": {
   "display_name": "Python 3 (ipykernel)",
   "language": "python",
   "name": "python3"
  },
  "language_info": {
   "codemirror_mode": {
    "name": "ipython",
    "version": 3
   },
   "file_extension": ".py",
   "mimetype": "text/x-python",
   "name": "python",
   "nbconvert_exporter": "python",
   "pygments_lexer": "ipython3",
   "version": "3.10.8"
  }
 },
 "nbformat": 4,
 "nbformat_minor": 5
}
